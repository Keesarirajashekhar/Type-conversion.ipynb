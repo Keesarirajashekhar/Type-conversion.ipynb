{
  "nbformat": 4,
  "nbformat_minor": 0,
  "metadata": {
    "colab": {
      "provenance": [],
      "authorship_tag": "ABX9TyPiccEekyt529OGdGOz2e44",
      "include_colab_link": true
    },
    "kernelspec": {
      "name": "python3",
      "display_name": "Python 3"
    },
    "language_info": {
      "name": "python"
    }
  },
  "cells": [
    {
      "cell_type": "markdown",
      "metadata": {
        "id": "view-in-github",
        "colab_type": "text"
      },
      "source": [
        "<a href=\"https://colab.research.google.com/github/Keesarirajashekhar/python-assignment.ipynb/blob/main/Data_structures.ipynb\" target=\"_parent\"><img src=\"https://colab.research.google.com/assets/colab-badge.svg\" alt=\"Open In Colab\"/></a>"
      ]
    },
    {
      "cell_type": "markdown",
      "source": [],
      "metadata": {
        "id": "ttGqH4-Mbrm6"
      }
    },
    {
      "cell_type": "markdown",
      "source": [
        "2Q.can you explain a real world senario where a using stack would be a more practical chioce than a list for data storge and retrival? A)Sure. Stacks are a type of data structure that follow the Last In, First Out (LIFO) principle. This means that the last element added to the stack is the first one to be removed. This makes stacks ideal for situations where you need to keep track of the order of items, and only need to access the most recent ones.\n",
        "\n",
        "A real-world scenario where using a stack would be more practical than a list for data storage and retrieval is in a web browser's back button functionality. When you click on a link in a web browser, the URL of the new page is pushed onto the stack. When you click the back button, the URL at the top of the stack is popped off and the browser navigates to that page. This ensures that the most recently visited pages are always easily accessible.\n",
        "\n",
        "Another example is in the undo functionality of a text editor. When you make a change to a document, the previous state of the document is pushed onto the stack. When you click the undo button, the top element of the stack is popped off and the document is restored to its previous state. This allows you to easily revert changes and go back to previous versions of your document.\n",
        "\n",
        "In both of these examples, it is important to keep track of the order of items and only access the most recent ones. Using a stack data structure is ideal for this because it ensures that the last item added is always the first one to be removed.\n",
        "\n",
        "\n",
        "\n"
      ],
      "metadata": {
        "id": "-rigkV7NdT66"
      }
    },
    {
      "cell_type": "markdown",
      "source": [
        "1Q.WHY might you choose a deque from the collection module to implement a queue instead of using regular python list?\n",
        "\n",
        "A)efficient operations :deque provide efficient append and pop operations from the both ends of the deque"
      ],
      "metadata": {
        "id": "02LcTzYxeOTz"
      }
    },
    {
      "cell_type": "markdown",
      "source": [
        "3Q.what are the primary advantages of using sets in python  what type of problems solving scenarieosare they most useful?\n",
        "A)Sets only store unique elements. This can be useful for tasks like removing duplicates from a list or finding unique values in a dataset.\n",
        "Sets support a number of mathematical operations, such as union, intersection, and difference. These operations can be used to combine or compare sets in various ways."
      ],
      "metadata": {
        "id": "xgFKYNKIeVi7"
      }
    },
    {
      "cell_type": "markdown",
      "source": [
        "4Q.when might you choose to use an array instead of list for storing numerical data in python ?whatbenefits do array offer in this context?\n",
        "A)You need efficient storage: Arrays are more efficient in terms of memory usage than lists. This is because arrays store all elements of the same data type contiguously in memory, while lists can store elements of different data types and may not be stored contiguously.\n",
        "You need fast access to data: Arrays provide faster access to data than lists. This is because arrays are stored contiguously in memory, which means that the CPU can access elements more quickly.\n",
        "You need to perform mathematical operations on the data: Arrays are optimized for mathematical operations. This means that operations such as addition, subtraction, and multiplication can be performed more quickly on arrays than on lists.\n",
        "\n"
      ],
      "metadata": {
        "id": "vGFGVDJUfcMo"
      }
    },
    {
      "cell_type": "markdown",
      "source": [
        "5Q.in python whats the primary differnce between dictionariy and list , andhow does this differnce impact use case in programing\n",
        "A)Dictionaries:\n",
        "\n",
        "Store key-value pairs.\n",
        "Keys must be unique.\n",
        "Values can be of any data type.\n",
        "Accessing elements is done using keys.\n",
        "Lists:\n",
        "\n",
        "Store a sequence of items.\n",
        "Items can be of any data type.\n",
        "Items are accessed using their index.\n",
        "Impact on use cases in programming:\n",
        "\n",
        "Dictionaries are used when you need to associate values with keys. For example, you could use a dictionary to store the names and ages of your friends, where the names are the keys and the ages are the values.\n",
        "Lists are used when you need to store a sequence of items. For example, you could use a list to store the names of your favorite movies.\n",
        "Here are some specific examples of how the difference between dictionaries and lists impacts their use cases in programming:\n",
        "\n",
        "Looking up data: Dictionaries are more efficient for looking up data by key than lists are for looking up data by index. This is because dictionaries use a hash table to store their data, which allows for constant-time lookup.\n",
        "Adding and removing elements: Adding and removing elements from the end of a list is efficient, but adding and removing elements from the middle of a list is inefficient. Adding and removing elements from a dictionary is always efficient, regardless of where the element is located.\n",
        "Iterating over data: Iterating over the keys of a dictionary is efficient, but iterating over the values of a dictionary is inefficient. Iterating over the elements of a list is always efficient."
      ],
      "metadata": {
        "id": "dNrjryUUgPLB"
      }
    }
  ]
}