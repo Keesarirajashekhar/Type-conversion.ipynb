{
  "nbformat": 4,
  "nbformat_minor": 0,
  "metadata": {
    "colab": {
      "provenance": [],
      "authorship_tag": "ABX9TyM+B0L+hM0A6l/kOqQ8H+LY",
      "include_colab_link": true
    },
    "kernelspec": {
      "name": "python3",
      "display_name": "Python 3"
    },
    "language_info": {
      "name": "python"
    }
  },
  "cells": [
    {
      "cell_type": "markdown",
      "metadata": {
        "id": "view-in-github",
        "colab_type": "text"
      },
      "source": [
        "<a href=\"https://colab.research.google.com/github/Keesarirajashekhar/python-assignment.ipynb/blob/main/%60python_keywords.ipynb\" target=\"_parent\"><img src=\"https://colab.research.google.com/assets/colab-badge.svg\" alt=\"Open In Colab\"/></a>"
      ]
    },
    {
      "cell_type": "markdown",
      "source": [
        "#explain the significance of python keywords and provide examples of five keywords.\n",
        "\n",
        " A)   Python keywords are special words that have a specific meaning in the language. They are used to define the syntax and structure of Python programs. There are 33 keywords in Python.\n",
        "Ex:def,break,continue,pass,for\n"
      ],
      "metadata": {
        "id": "cIjoVUDfkhNJ"
      }
    },
    {
      "cell_type": "markdown",
      "source": [
        "2Q.Describe the rules for defining identifiers in python and provide an example.\n",
        "  Identifier names in Python can contain numbers (0-9), uppercase letters (A-Z), lowercase letters (a-z), and underscore (_).\n",
        " A)\n",
        "The name should always start with a non-numeric character.\n",
        "An identifier name should not contain numeric characters only.\n",
        "Identifier names in Python are case-sensitive like most other languages. (‘Ash’ is different from ‘ASH’).\n",
        "Users can begin identifiers with an underscore; it will not display an error.\n",
        "An identifier name can be of any length, although the PEP-8 standard rule advises limiting the number of characters in a line to 79.\n",
        "Identifiers should not carry the same name as keywords. (To avoid errors in this regard, users can type help() followed by “keywords” to view a list of all the keywords in Python.)\n",
        "Leading double underscores (__$) cannot be used as these category names are used for the context of the definition of a class. These are private variables of derived and base classes.\n",
        "\n",
        "\n"
      ],
      "metadata": {
        "id": "X6P55v6dkmpX"
      }
    },
    {
      "cell_type": "markdown",
      "source": [
        "\n",
        "3Q.what are comments in python ,and why are they useful ? provide an example.\n",
        "    A) 1)comments are used to write a few lines of content which interpreter doesn’t  read or execute it\n",
        "     2)comments are useful to identify the purpose of code we wrote .\n",
        "\n"
      ],
      "metadata": {
        "id": "NFm056Cxk5DO"
      }
    },
    {
      "cell_type": "markdown",
      "source": [
        "why is proper indentation important in python?\n",
        "A)Indentation in python is a way to group related statements together.it is add by adding whitespaces or tabs\n",
        "\n",
        ">it is useful to make code simple to understand\n",
        "\n",
        "\n"
      ],
      "metadata": {
        "id": "Ths0G85ak_LW"
      }
    },
    {
      "cell_type": "markdown",
      "source": [
        "5Q.what happens if indentation is incorrect in python?\n",
        "\n",
        "  A)  Overall code will not run and the interpreter will return a error function.\n",
        "\n"
      ],
      "metadata": {
        "id": "Yr_IBAB0lINQ"
      }
    },
    {
      "cell_type": "markdown",
      "source": [
        "6Q.Differentiate between expression and statement in python with examples.\n",
        "\n",
        "A)1)expression in python produces some result after being interpreted by python interpreter\n",
        "2)statement in python is used for creating variables for displaying values\n"
      ],
      "metadata": {
        "id": "6Agh7AxXlTID"
      }
    }
  ]
}