{
  "nbformat": 4,
  "nbformat_minor": 0,
  "metadata": {
    "colab": {
      "provenance": [],
      "authorship_tag": "ABX9TyPT78gkPPVDjLTQJu/ZHGQ6",
      "include_colab_link": true
    },
    "kernelspec": {
      "name": "python3",
      "display_name": "Python 3"
    },
    "language_info": {
      "name": "python"
    }
  },
  "cells": [
    {
      "cell_type": "markdown",
      "metadata": {
        "id": "view-in-github",
        "colab_type": "text"
      },
      "source": [
        "<a href=\"https://colab.research.google.com/github/Keesarirajashekhar/python-assignment.ipynb/blob/main/break%20continue.ipynb\" target=\"_parent\"><img src=\"https://colab.research.google.com/assets/colab-badge.svg\" alt=\"Open In Colab\"/></a>"
      ]
    },
    {
      "cell_type": "code",
      "execution_count": 3,
      "metadata": {
        "colab": {
          "base_uri": "https://localhost:8080/"
        },
        "id": "x2MZZNVviMjq",
        "outputId": "20ad89f4-a079-47ef-a9e9-917e1e8cb003"
      },
      "outputs": [
        {
          "output_type": "stream",
          "name": "stdout",
          "text": [
            "1\n",
            "2\n",
            "3\n",
            "4\n"
          ]
        }
      ],
      "source": [
        "#Write a program to print numbers from 1 to10, but stop if the number is 5.\n",
        "for i in range(1,11):\n",
        "    if(i==5):\n",
        "        break\n",
        "    else:\n",
        "        print(i)\n"
      ]
    },
    {
      "cell_type": "code",
      "source": [
        "#Write a program to iterate through a list and stop when encountering a specific element.\n",
        "list1=[1,2,3,4]\n",
        "special_element=4\n",
        "for i in list1:\n",
        "  if(i==special_element):\n",
        "    break\n",
        "  else:\n",
        "    print(i)"
      ],
      "metadata": {
        "colab": {
          "base_uri": "https://localhost:8080/"
        },
        "id": "E_hMi-tti0NS",
        "outputId": "a07f10b0-07f6-48b8-9602-94030c8c6f6f"
      },
      "execution_count": 4,
      "outputs": [
        {
          "output_type": "stream",
          "name": "stdout",
          "text": [
            "1\n",
            "2\n",
            "3\n"
          ]
        }
      ]
    },
    {
      "cell_type": "code",
      "source": [
        "#Write a program to skip printing even numbers from 1 to 10.\n",
        "for i in range(1,11):\n",
        "  if(i%2==0):\n",
        "    continue\n",
        "  else:\n",
        "    print(i)\n"
      ],
      "metadata": {
        "colab": {
          "base_uri": "https://localhost:8080/"
        },
        "id": "rGWSyhjJjEnD",
        "outputId": "c91793fc-7e2d-4631-9783-935aaf609d87"
      },
      "execution_count": 5,
      "outputs": [
        {
          "output_type": "stream",
          "name": "stdout",
          "text": [
            "1\n",
            "3\n",
            "5\n",
            "7\n",
            "9\n"
          ]
        }
      ]
    },
    {
      "cell_type": "code",
      "source": [
        "#Write a program to print numbers from 0 to 9 using range().\n",
        "for i in range(10):\n",
        "    print(i)\n"
      ],
      "metadata": {
        "colab": {
          "base_uri": "https://localhost:8080/"
        },
        "id": "d2TxRs8hjRHJ",
        "outputId": "3bc7ee01-5071-44e4-a075-b7b4d2511d21"
      },
      "execution_count": 6,
      "outputs": [
        {
          "output_type": "stream",
          "name": "stdout",
          "text": [
            "0\n",
            "1\n",
            "2\n",
            "3\n",
            "4\n",
            "5\n",
            "6\n",
            "7\n",
            "8\n",
            "9\n"
          ]
        }
      ]
    },
    {
      "cell_type": "code",
      "source": [
        "#Write a program to print multiplication tables from  to 5, but stop after the first table is printed for each.\n",
        "for i in range(1,6):\n",
        "    for j in range(1,11):\n",
        "        print(f\"{i}*{j}= {i * j}\")\n",
        "\n",
        "    print(\"\\n\")\n"
      ],
      "metadata": {
        "colab": {
          "base_uri": "https://localhost:8080/"
        },
        "id": "Ygmd_f0AjV5J",
        "outputId": "9c0366a8-cf8d-4757-a307-f4f1eb58011b"
      },
      "execution_count": 8,
      "outputs": [
        {
          "output_type": "stream",
          "name": "stdout",
          "text": [
            "1*1= 1\n",
            "1*2= 2\n",
            "1*3= 3\n",
            "1*4= 4\n",
            "1*5= 5\n",
            "1*6= 6\n",
            "1*7= 7\n",
            "1*8= 8\n",
            "1*9= 9\n",
            "1*10= 10\n",
            "\n",
            "\n",
            "2*1= 2\n",
            "2*2= 4\n",
            "2*3= 6\n",
            "2*4= 8\n",
            "2*5= 10\n",
            "2*6= 12\n",
            "2*7= 14\n",
            "2*8= 16\n",
            "2*9= 18\n",
            "2*10= 20\n",
            "\n",
            "\n",
            "3*1= 3\n",
            "3*2= 6\n",
            "3*3= 9\n",
            "3*4= 12\n",
            "3*5= 15\n",
            "3*6= 18\n",
            "3*7= 21\n",
            "3*8= 24\n",
            "3*9= 27\n",
            "3*10= 30\n",
            "\n",
            "\n",
            "4*1= 4\n",
            "4*2= 8\n",
            "4*3= 12\n",
            "4*4= 16\n",
            "4*5= 20\n",
            "4*6= 24\n",
            "4*7= 28\n",
            "4*8= 32\n",
            "4*9= 36\n",
            "4*10= 40\n",
            "\n",
            "\n",
            "5*1= 5\n",
            "5*2= 10\n",
            "5*3= 15\n",
            "5*4= 20\n",
            "5*5= 25\n",
            "5*6= 30\n",
            "5*7= 35\n",
            "5*8= 40\n",
            "5*9= 45\n",
            "5*10= 50\n",
            "\n",
            "\n"
          ]
        }
      ]
    },
    {
      "cell_type": "code",
      "source": [
        "#Write a program to skip printing even numbers using a while loop.\n",
        "i=1\n",
        "while(i<=10):\n",
        "  print(i)\n",
        "  i=i+2\n",
        "\n"
      ],
      "metadata": {
        "colab": {
          "base_uri": "https://localhost:8080/"
        },
        "id": "OEQDIcw6j0zS",
        "outputId": "8c9644d4-ba3a-43aa-dcb0-3ab0c397c7f0"
      },
      "execution_count": 9,
      "outputs": [
        {
          "output_type": "stream",
          "name": "stdout",
          "text": [
            "1\n",
            "3\n",
            "5\n",
            "7\n",
            "9\n"
          ]
        }
      ]
    }
  ]
}