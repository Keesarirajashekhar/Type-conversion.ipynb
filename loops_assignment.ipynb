{
  "nbformat": 4,
  "nbformat_minor": 0,
  "metadata": {
    "colab": {
      "provenance": [],
      "authorship_tag": "ABX9TyPDkIh10ef7n9iT/iWAm+Q+",
      "include_colab_link": true
    },
    "kernelspec": {
      "name": "python3",
      "display_name": "Python 3"
    },
    "language_info": {
      "name": "python"
    }
  },
  "cells": [
    {
      "cell_type": "markdown",
      "metadata": {
        "id": "view-in-github",
        "colab_type": "text"
      },
      "source": [
        "<a href=\"https://colab.research.google.com/github/Keesarirajashekhar/python-assignment.ipynb/blob/main/loops_assignment.ipynb\" target=\"_parent\"><img src=\"https://colab.research.google.com/assets/colab-badge.svg\" alt=\"Open In Colab\"/></a>"
      ]
    },
    {
      "cell_type": "code",
      "execution_count": 3,
      "metadata": {
        "colab": {
          "base_uri": "https://localhost:8080/"
        },
        "id": "MclZ9X9efj9T",
        "outputId": "d859bff7-2515-4c16-eb65-3e96a59da0da"
      },
      "outputs": [
        {
          "output_type": "stream",
          "name": "stdout",
          "text": [
            "1\n",
            "2\n",
            "3\n",
            "4\n",
            "5\n"
          ]
        }
      ],
      "source": [
        "#print numbers from 1 to 5 using a while loop.\n",
        "i=1\n",
        "while i<=5:\n",
        "  print(i)\n",
        "  i=i+1\n"
      ]
    },
    {
      "cell_type": "code",
      "source": [
        "#calculate the sum of numbers from 1 to 10 using a while loop\n",
        "i=1\n",
        "sum=0\n",
        "while(i<=10):\n",
        "  sum=sum+i\n",
        "  i=i+1\n",
        "print(sum)\n"
      ],
      "metadata": {
        "colab": {
          "base_uri": "https://localhost:8080/"
        },
        "id": "SZNxbifzgGeu",
        "outputId": "75145a93-8405-4920-e591-c3424eeb0639"
      },
      "execution_count": 5,
      "outputs": [
        {
          "output_type": "stream",
          "name": "stdout",
          "text": [
            "55\n"
          ]
        }
      ]
    },
    {
      "cell_type": "code",
      "source": [
        "#calculate the factorial of a number using a for loop.\n",
        "num=5\n",
        "fact=1\n",
        "for i in range(1,num+1):\n",
        "    fact=fact*i\n",
        "print(fact)\n"
      ],
      "metadata": {
        "colab": {
          "base_uri": "https://localhost:8080/"
        },
        "id": "1CpUhtPigUlG",
        "outputId": "2d286de5-7baa-497c-aaa8-bbc3717758d3"
      },
      "execution_count": 10,
      "outputs": [
        {
          "output_type": "stream",
          "name": "stdout",
          "text": [
            "120\n"
          ]
        }
      ]
    },
    {
      "cell_type": "code",
      "source": [
        "#Count the number of vowels in a string using a for loop.\n",
        "list=\"apple\"\n",
        "Vowel = \"aeiou\"\n",
        "count_vowel=0\n",
        "for i in list:\n",
        "  for j in Vowel:\n",
        "    if(j==i):\n",
        "        count_vowel=count_vowel+1\n",
        "print(count_vowel)\n"
      ],
      "metadata": {
        "colab": {
          "base_uri": "https://localhost:8080/"
        },
        "id": "7Xfr75A0gr1L",
        "outputId": "3ee54d3b-083c-425d-ed7c-f01461bc518a"
      },
      "execution_count": 12,
      "outputs": [
        {
          "output_type": "stream",
          "name": "stdout",
          "text": [
            "2\n"
          ]
        }
      ]
    },
    {
      "cell_type": "code",
      "source": [
        "#print a pattern using nested loops.\n",
        "for i in range(4):\n",
        "  for j in range(i):\n",
        "      print(\"*\",end=\"\")\n",
        "  print(\"\\n\")"
      ],
      "metadata": {
        "colab": {
          "base_uri": "https://localhost:8080/"
        },
        "id": "oht6BJPvhDOE",
        "outputId": "8cc4c224-0da5-4626-de4f-b9103204e1d3"
      },
      "execution_count": 15,
      "outputs": [
        {
          "output_type": "stream",
          "name": "stdout",
          "text": [
            "\n",
            "\n",
            "*\n",
            "\n",
            "**\n",
            "\n",
            "***\n",
            "\n"
          ]
        }
      ]
    },
    {
      "cell_type": "code",
      "source": [
        "#Generate a multiplication table using nested loop.\n",
        "value=5\n",
        "for i in range(1,11):\n",
        "    print(value,\"*\",i,\"=\",value*i)\n",
        "print(\"\\n\")\n",
        "\n"
      ],
      "metadata": {
        "colab": {
          "base_uri": "https://localhost:8080/"
        },
        "id": "9Yb3OCPGhUFB",
        "outputId": "d396cf9a-34fb-439f-c055-e71f87d73d33"
      },
      "execution_count": 16,
      "outputs": [
        {
          "output_type": "stream",
          "name": "stdout",
          "text": [
            "5 * 1 = 5\n",
            "5 * 2 = 10\n",
            "5 * 3 = 15\n",
            "5 * 4 = 20\n",
            "5 * 5 = 25\n",
            "5 * 6 = 30\n",
            "5 * 7 = 35\n",
            "5 * 8 = 40\n",
            "5 * 9 = 45\n",
            "5 * 10 = 50\n",
            "\n",
            "\n"
          ]
        }
      ]
    }
  ]
}