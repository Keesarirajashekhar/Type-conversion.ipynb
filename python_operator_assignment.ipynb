{
  "nbformat": 4,
  "nbformat_minor": 0,
  "metadata": {
    "colab": {
      "provenance": [],
      "authorship_tag": "ABX9TyO5m2E624+IaxeCgErjOGdi",
      "include_colab_link": true
    },
    "kernelspec": {
      "name": "python3",
      "display_name": "Python 3"
    },
    "language_info": {
      "name": "python"
    }
  },
  "cells": [
    {
      "cell_type": "markdown",
      "metadata": {
        "id": "view-in-github",
        "colab_type": "text"
      },
      "source": [
        "<a href=\"https://colab.research.google.com/github/Keesarirajashekhar/python-assignment.ipynb/blob/main/python_operator_assignment.ipynb\" target=\"_parent\"><img src=\"https://colab.research.google.com/assets/colab-badge.svg\" alt=\"Open In Colab\"/></a>"
      ]
    },
    {
      "cell_type": "code",
      "execution_count": 2,
      "metadata": {
        "colab": {
          "base_uri": "https://localhost:8080/"
        },
        "id": "wWS3U_jRb-P2",
        "outputId": "4d6cfa2c-d9cf-4c2d-f1e6-b552b43569ce"
      },
      "outputs": [
        {
          "output_type": "stream",
          "name": "stdout",
          "text": [
            "11\n",
            "-1\n",
            "30\n",
            "0.8333333333333334\n"
          ]
        }
      ],
      "source": [
        "#calculate the sum,difference,product,and quotient of two numbers.\n",
        "a=5\n",
        "b=6\n",
        "sum=a+b\n",
        "difference=a-b\n",
        "product=a*b\n",
        "quotient=a/b\n",
        "print(sum)\n",
        "print(difference)\n",
        "print(product)\n",
        "print(quotient)\n"
      ]
    },
    {
      "cell_type": "code",
      "source": [
        "#compare two numbers and print the results.\n",
        "a=5\n",
        "b=6\n",
        "if(a>b):\n",
        "  print(\"a is greater than b\")\n",
        "elif(b>a):\n",
        "  print(\"b is greater than a\")\n",
        "else:\n",
        "  print(\"a and b are equal\")\n"
      ],
      "metadata": {
        "colab": {
          "base_uri": "https://localhost:8080/"
        },
        "id": "J3BgW_tZcYWL",
        "outputId": "4f97b5f0-d1a1-4697-f674-0d2746da4fb9"
      },
      "execution_count": 3,
      "outputs": [
        {
          "output_type": "stream",
          "name": "stdout",
          "text": [
            "b is greater than a\n"
          ]
        }
      ]
    },
    {
      "cell_type": "code",
      "source": [
        "#check conditions using logical operators.\n",
        "a=5\n",
        "b=6\n",
        "c=10\n",
        "if(a>b and a>c):\n",
        "  print(\"a is greater\")\n",
        "elif(b>a and b>c):\n",
        "  print(\"b is greater\")\n",
        "else:\n",
        "  print(\"c is greater\")\n"
      ],
      "metadata": {
        "colab": {
          "base_uri": "https://localhost:8080/"
        },
        "id": "p9xQw51acqES",
        "outputId": "0a174b3b-c193-4b1d-ffef-b9d13f7acd6f"
      },
      "execution_count": 4,
      "outputs": [
        {
          "output_type": "stream",
          "name": "stdout",
          "text": [
            "c is greater\n"
          ]
        }
      ]
    },
    {
      "cell_type": "code",
      "source": [
        "#check the identity of variables.\n",
        "a=5\n",
        "print(id(a))\n"
      ],
      "metadata": {
        "colab": {
          "base_uri": "https://localhost:8080/"
        },
        "id": "UJK4XN8Nc-FB",
        "outputId": "b28857ec-792d-4758-d44a-445db5a1377e"
      },
      "execution_count": 5,
      "outputs": [
        {
          "output_type": "stream",
          "name": "stdout",
          "text": [
            "134988537332080\n"
          ]
        }
      ]
    },
    {
      "cell_type": "code",
      "source": [
        "#perform bitwise operation on any two integers.\n",
        "a=7\n",
        "b=4\n",
        "c=a & b\n",
        "d=a | b\n",
        "E =a ^ b\n",
        "print(a,b,c,E)\n"
      ],
      "metadata": {
        "colab": {
          "base_uri": "https://localhost:8080/"
        },
        "id": "ePvqHJG6dChQ",
        "outputId": "6e43f178-7a95-4bb5-dbce-236f89431df4"
      },
      "execution_count": 6,
      "outputs": [
        {
          "output_type": "stream",
          "name": "stdout",
          "text": [
            "7 4 4 3\n"
          ]
        }
      ]
    },
    {
      "cell_type": "code",
      "source": [
        "#use unary operator to change the sign of a number\n",
        "x=5\n",
        "if(x>0):\n",
        "  print(-(x))\n",
        "else:\n",
        "  print(x)\n",
        "\n"
      ],
      "metadata": {
        "colab": {
          "base_uri": "https://localhost:8080/"
        },
        "id": "1B_OaA4jdRtv",
        "outputId": "f12f8d0a-58ac-400b-8f02-442e1ca7ae98"
      },
      "execution_count": 7,
      "outputs": [
        {
          "output_type": "stream",
          "name": "stdout",
          "text": [
            "-5\n"
          ]
        }
      ]
    },
    {
      "cell_type": "code",
      "source": [
        "#use the ternary operator to assign values based on condition.\n",
        "a,b =10,20\n",
        "min = a if a< b else b\n",
        "print(min)\n"
      ],
      "metadata": {
        "colab": {
          "base_uri": "https://localhost:8080/"
        },
        "id": "3GlB7s-4daTk",
        "outputId": "1adba96b-0468-45a0-866a-751c383ae514"
      },
      "execution_count": 8,
      "outputs": [
        {
          "output_type": "stream",
          "name": "stdout",
          "text": [
            "10\n"
          ]
        }
      ]
    },
    {
      "cell_type": "code",
      "source": [
        "#perform various assignment operations on a variable\n",
        "x=3\n",
        "x=x+1\n",
        "print(x)\n",
        "x=x-1\n",
        "print(x)\n",
        "x=x*2\n",
        "print(x)\n",
        "x=x%2\n",
        "print(x)\n",
        "x=x/2\n",
        "print(x)\n",
        "\n"
      ],
      "metadata": {
        "colab": {
          "base_uri": "https://localhost:8080/"
        },
        "id": "OuKUPWBUdh4L",
        "outputId": "ffc2e3a4-a925-42da-c8b0-52333a843f0f"
      },
      "execution_count": 9,
      "outputs": [
        {
          "output_type": "stream",
          "name": "stdout",
          "text": [
            "4\n",
            "3\n",
            "6\n",
            "0\n",
            "0.0\n"
          ]
        }
      ]
    }
  ]
}